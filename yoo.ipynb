{
 "cells": [
  {
   "cell_type": "code",
   "execution_count": null,
   "id": "4456a589",
   "metadata": {},
   "outputs": [],
   "source": [
    "for i in range(0,10):\n",
    "    i + 1\n",
    "\n",
    "def pluss(i,j):\n",
    "    return i + j  \n",
    "pluss(1,2)"
   ]
  },
  {
   "cell_type": "markdown",
   "id": "033a0f44",
   "metadata": {},
   "source": [
    "a man and a monster"
   ]
  }
 ],
 "metadata": {},
 "nbformat": 4,
 "nbformat_minor": 5
}
