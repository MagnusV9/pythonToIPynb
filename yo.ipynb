{
 "cells": [
  {
   "cell_type": "markdown",
   "id": "ccc207b2",
   "metadata": {},
   "source": [
    "hello world!\n",
    "how are u this fine evening ?"
   ]
  },
  {
   "cell_type": "code",
   "execution_count": null,
   "id": "580252d1",
   "metadata": {},
   "outputs": [],
   "source": [
    "for i in range(0,10):\n",
    "    i + 1\n",
    "\n",
    "def pluss(i,j):\n",
    "    return i + j  \n",
    "pluss(1,2)"
   ]
  },
  {
   "cell_type": "markdown",
   "id": "583ec25d",
   "metadata": {},
   "source": [
    "a man and a monster"
   ]
  }
 ],
 "metadata": {},
 "nbformat": 4,
 "nbformat_minor": 5
}
