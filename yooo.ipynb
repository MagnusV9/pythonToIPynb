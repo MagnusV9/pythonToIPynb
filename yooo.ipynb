{
 "cells": [
  {
   "cell_type": "markdown",
   "id": "3a2a52a9",
   "metadata": {},
   "source": [
    "halle luja"
   ]
  },
  {
   "cell_type": "code",
   "execution_count": null,
   "id": "2dd34962",
   "metadata": {},
   "outputs": [],
   "source": [
    "for i in range(0,10):\n",
    "    i + 1\n",
    "\n",
    "def pluss(i,j):\n",
    "    return i + j  \n",
    "pluss(1,2)"
   ]
  },
  {
   "cell_type": "markdown",
   "id": "a0173ac7",
   "metadata": {},
   "source": [
    "a man and a monster"
   ]
  }
 ],
 "metadata": {},
 "nbformat": 4,
 "nbformat_minor": 5
}
